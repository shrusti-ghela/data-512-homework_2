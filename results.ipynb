{
 "cells": [
  {
   "cell_type": "markdown",
   "metadata": {},
   "source": [
    "#### Top 10 countries by high quality\n",
    "\n",
    "Rank |country\t|population\t|count\t|quality_per_capita\n",
    "---|---|---|---|---\n",
    "1\t|Antigua and Barbuda\t|0.1\t|17\t|0.000170\n",
    "2\t|Federated States of Micronesia\t|0.1\t|13\t|0.000130\n",
    "3\t|Andorra\t|0.1\t|10\t|0.000100\n",
    "4\t|Barbados\t|0.3\t|28\t|0.000093\n",
    "5\t|Marshall Islands\t|0.1\t|9\t|0.000090\n",
    "6\t|Montenegro\t|0.6\t|36\t|0.000060\n",
    "7\t|Seychelles\t|0.1\t|6\t|0.000060\n",
    "8\t|Luxembourg\t|0.7\t|37\t|0.000053\n",
    "9\t|Bhutan\t|0.8\t|41\t|0.000051\n",
    "10\t|Grenada\t|0.1\t|5\t|0.000050"
   ]
  },
  {
   "cell_type": "markdown",
   "metadata": {},
   "source": [
    "#### Bottom 10 countries by coverage\n",
    "\n",
    "Rank |country\t|population\t|count\t|article_per_capita\n",
    "---|---|---|---|---\n",
    "1\t|China\t|1436.6\t|2\t|1.392176e-09\n",
    "2\t|Mexico\t|127.5\t|1\t|7.843137e-09\n",
    "3\t|Saudi Arabia\t|36.7\t|3\t|8.174387e-08\n",
    "4\t|Romania\t|19.0\t|2\t|1.052632e-07\n",
    "5\t|India\t|1417.2\t|178\t|1.255998e-07\n",
    "6\t|Sri Lanka\t|22.4\t|3\t|1.339286e-07\n",
    "7\t|Egypt\t|103.5\t|14\t|1.352657e-07\n",
    "8\t|Ethiopia\t|123.4\t|25\t|2.025932e-07\n",
    "9\t|Taiwan\t|23.2\t|5\t|2.155172e-07\n",
    "10\t|Vietnam\t|99.4\t|27\t|2.716298e-07"
   ]
  },
  {
   "cell_type": "markdown",
   "metadata": {},
   "source": [
    "#### Top 10 countries by high quality\n",
    "\n",
    "\n",
    "Rank |country\t|population\t|count\t|quality_per_capita\n",
    "---|---|---|---|---\n",
    "1\t|Andorra\t|0.1\t|2\t|2.000000e-05\n",
    "2\t|Montenegro\t|0.6\t|3\t|5.000000e-06\n",
    "3\t|Albania\t|2.8\t|6\t|2.142857e-06\n",
    "4\t|Suriname\t|0.6\t|1\t|1.666667e-06\n",
    "5\t|Bosnia-Herzegovina\t|3.4\t|5\t|1.470588e-06\n",
    "6\t|Lithuania\t|2.8\t|3\t|1.071429e-06\n",
    "7\t|Croatia\t|3.8\t|4\t|1.052632e-06\n",
    "8\t|Slovenia\t|2.1\t|2\t|9.523810e-07\n",
    "9\t|Palestinian Territory\t|5.4\t|5\t|9.259259e-07\n",
    "10\t|Gabon\t|2.4\t|2\t|8.333333e-07"
   ]
  },
  {
   "cell_type": "markdown",
   "metadata": {},
   "source": [
    "#### Bottom 10 countries by high quality\n",
    "\n",
    "Rank |country\t|population\t|count\t|quality_per_capita\n",
    "---|---|---|---|---\n",
    "1\t|India\t|1417.2\t|6\t|4.233700e-09\n",
    "2\t|Thailand\t|66.8\t|1\t|1.497006e-08\n",
    "3\t|Japan\t|124.9\t|2\t|1.601281e-08\n",
    "4\t|Nigeria\t|218.5\t|4\t|1.830664e-08\n",
    "5\t|Vietnam\t|99.4\t|2\t|2.012072e-08\n",
    "6\t|Colombia\t|49.1\t|1\t|2.036660e-08\n",
    "7\t|Uganda\t|47.2\t|1\t|2.118644e-08\n",
    "8\t|Pakistan\t|235.8\t|5\t|2.120441e-08\n",
    "9\t|Sudan\t|46.9\t|1\t|2.132196e-08\n",
    "10\t|Iran\t|88.6\t|2\t|2.257336e-08"
   ]
  },
  {
   "cell_type": "markdown",
   "metadata": {},
   "source": [
    "#### Geographic regions by total coverage\n",
    "\n",
    "Rank |region\t|count\t|population\t|article_per_capita\n",
    "---|---|---|---|---\n",
    "1\t|OCEANIA\t|86\t|110.1\t|7.811081e-07\n",
    "2\t|NORTHERN EUROPE\t|262\t|1348.4\t|1.943044e-07\n",
    "3\t|CARIBBEAN\t|201\t|1239.5\t|1.621622e-07\n",
    "4\t|CENTRAL AMERICA\t|195\t|1755.7\t|1.110668e-07\n",
    "5\t|CENTRAL ASIA\t|106\t|1788.4\t|5.927086e-08\n",
    "6\t|SOUTHERN EUROPE\t|890\t|19444.6\t|4.577106e-08\n",
    "7\t|WESTERN ASIA\t|686\t|15532.6\t|4.416518e-08\n",
    "8\t|EASTERN AFRICA\t|648\t|19032.8\t|3.404649e-08\n",
    "9\t|NORTHERN AFRICA\t|227\t|7639.9\t|2.971243e-08\n",
    "10\t|MIDDLE AFRICA\t|203\t|7919.0\t|2.563455e-08"
   ]
  },
  {
   "cell_type": "markdown",
   "metadata": {},
   "source": [
    "#### Geographic regions by high quality coverage\n",
    "Rank |region\t|count\t|population\t|quality_per_capita\n",
    "---|---|---|---|---\n",
    "1\t|OCEANIA\t|2\t|9.3\t|2.150538e-07\n",
    "2\t|NORTHERN EUROPE\t|8\t|46.6\t|1.716738e-07\n",
    "3\t|MIDDLE AFRICA\t|5\t|43.9\t|1.138952e-07\n",
    "4\t|CENTRAL AMERICA\t|10\t|102.2\t|9.784736e-08\n",
    "5\t|CARIBBEAN\t|8\t|89.6\t|8.928571e-08\n",
    "6\t|CENTRAL ASIA\t|3\t|45.2\t|6.637168e-08\n",
    "7\t|WESTERN ASIA\t|28\t|538.8\t|5.196733e-08\n",
    "8\t|SOUTHERN EUROPE\t|46\t|910.6\t|5.051614e-08\n",
    "9\t|NORTHERN AFRICA\t|6\t|125.8\t|4.769475e-08\n",
    "10\t|SOUTH AMERICA\t|13\t|302.3\t|4.300364e-08"
   ]
  }
 ],
 "metadata": {
  "kernelspec": {
   "display_name": "Python 3.9.5 64-bit",
   "language": "python",
   "name": "python3"
  },
  "language_info": {
   "name": "python",
   "version": "3.9.5"
  },
  "orig_nbformat": 4,
  "vscode": {
   "interpreter": {
    "hash": "7019494c316389886f5f5fcb2e396e2fee403f1eb1d04a04c662a640ad80dd4e"
   }
  }
 },
 "nbformat": 4,
 "nbformat_minor": 2
}
